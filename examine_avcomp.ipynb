{
 "cells": [
  {
   "cell_type": "code",
   "execution_count": 1,
   "metadata": {
    "collapsed": true
   },
   "outputs": [
    {
     "data": {
      "text/plain": [
       "count    281.000000\nmean      20.123808\nstd        2.042608\nmin       12.000000\n25%       19.040000\n50%       20.360000\n75%       21.440000\nmax       27.270000\nName: AvgComposite, dtype: float64"
      ]
     },
     "execution_count": 1,
     "metadata": {},
     "output_type": "execute_result"
    }
   ],
   "source": [
    "import pandas as pd\n",
    "df = pd.read_csv(\"data/arschools.csv\")\n",
    "avcomp = df['AvgComposite'].dropna()\n",
    "avcomp.describe()"
   ]
  },
  {
   "cell_type": "code",
   "execution_count": 38,
   "metadata": {},
   "outputs": [
    {
     "data": {
      "image/png": "[encoded data removed]",
      "text/plain": [
       "<matplotlib.figure.Figure at 0x22ac71e8908>"
      ]
     },
     "metadata": {},
     "output_type": "display_data"
    }
   ],
   "source": [
    "import matplotlib.pyplot as plt\n",
    "plt.figure(figsize=(10, 3))\n",
    "abscissa = range(1, 282)\n",
    "plt.bar(abscissa, avcomp, color=\"blue\", edgecolor=\"blue\", align='center')\n",
    "ymin, ymax = plt.ylim()\n",
    "plt.ylim(ymin+10, ymax+1)\n",
    "xmin, xmax = plt.xlim()\n",
    "plt.xlim(xmin, 282)\n",
    "plt.xlabel(\"Secondary Schools\")\n",
    "plt.ylabel(\"Ave ACT Composite\")\n",
    "plt.show()"
   ]
  },
  {
   "cell_type": "code",
   "execution_count": null,
   "metadata": {},
   "outputs": [],
   "source": [
    ""
   ]
  }
 ],
 "metadata": {
  "kernelspec": {
   "display_name": "Python 2",
   "language": "python",
   "name": "python2"
  },
  "language_info": {
   "codemirror_mode": {
    "name": "ipython",
    "version": 2.0
   },
   "file_extension": ".py",
   "mimetype": "text/x-python",
   "name": "python",
   "nbconvert_exporter": "python",
   "pygments_lexer": "ipython2",
   "version": "2.7.6"
  }
 },
 "nbformat": 4,
 "nbformat_minor": 0
}